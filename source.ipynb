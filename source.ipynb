{
 "cells": [
  {
   "attachments": {},
   "cell_type": "markdown",
   "metadata": {},
   "source": [
    "# Mental Health Analysis📝\n",
    "\n",
    "![Banner](./assets/banner.jpeg)"
   ]
  },
  {
   "attachments": {},
   "cell_type": "markdown",
   "metadata": {},
   "source": [
    "## Topic\n",
    "*What problem are you (or your stakeholder) trying to address?*\n",
    "📝 <!-- Answer Below -->\n",
    "\n",
    "The increasing prevelance of mental illnesses without understanding all the causing of the illnesses which reduces people's quality of life."
   ]
  },
  {
   "attachments": {},
   "cell_type": "markdown",
   "metadata": {},
   "source": [
    "## Project Question\n",
    "*What specific question are you seeking to answer with this project?*\n",
    "*This is not the same as the questions you ask to limit the scope of the project.*\n",
    "📝 <!-- Answer Below -->\n",
    "\n",
    "I am trying to answer the the question of what factors can cause increases in mental illness and how can we use that knowledge to help others?"
   ]
  },
  {
   "attachments": {},
   "cell_type": "markdown",
   "metadata": {},
   "source": [
    "## What would an answer look like?\n",
    "*What is your hypothesized answer to your question?*\n",
    "📝 <!-- Answer Below -->\n",
    "\n",
    "An answer to me would be prevelant enviromental factors that can cause increased rates of mental illness and how we could reduce those enviromental factors."
   ]
  },
  {
   "cell_type": "markdown",
   "metadata": {},
   "source": [
    "![graphmap](./assets/graphmap.jpeg)"
   ]
  },
  {
   "attachments": {},
   "cell_type": "markdown",
   "metadata": {},
   "source": [
    "## Data Sources\n",
    "*What 3 data sources have you identified for this project?*\n",
    "*How are you going to relate these datasets?*\n",
    "📝 <!-- Answer Below -->\n",
    "\n",
    "https://mhanational.org/research-and-reports/\n",
    "\n",
    "https://www.cdc.gov/mental-health/about-data/suicidal-thoughts-and-behavior.html\n",
    "\n",
    "https://www.cdc.gov/mental-health/about-data/conditions-care.html\n",
    "\n",
    "I am going to relate this data by looking at the corralation of anxiety and depression rates among different groups and how that affects suicide rate among those same groups and use that data in tandem with analysis on how things like region and living area (urban, rural, etc) have different rates of mental illness and determine what differences could cause that.\n"
   ]
  },
  {
   "attachments": {},
   "cell_type": "markdown",
   "metadata": {},
   "source": [
    "## Approach and Analysis\n",
    "*What is your approach to answering your project question?*\n",
    "*How will you use the identified data to answer your project question?*\n",
    "📝 <!-- Start Discussing the project here; you can add as many code cells as you need -->\n",
    "\n",
    "My approach will be to use data visualizations such as bar graphs and map visualizations to display variations of different factors such as suicide rates, depression/anxiety rates. This would make understanding various factors at once much easier because you can see how they would connect.\n"
   ]
  },
  {
   "cell_type": "code",
   "execution_count": 14,
   "metadata": {},
   "outputs": [],
   "source": [
    "# Start your code here\n",
    "import pandas as pd\n",
    "from tabula import read_pdf\n",
    "\n",
    "mha_state_of_mental_health_report_2024 = read_pdf(\"sources/2024-State-of-Mental-Health-in-America-Report.pdf\",pages=\"11-14\",multiple_tables=True,encoding=\"latin-1\")\n",
    "mha_state_of_mental_health_report_2023 = read_pdf(\"sources/2023-State-of-Mental-Health-in-America-Report.pdf\",pages=\"12-15\",multiple_tables=True,encoding=\"latin-1\")\n",
    "cdc_er_suicide_visits= pd.read_csv(\"sources/National_Syndromic_Surveillance_Program_(NSSP)_Mental_Health-Related_Emergency_Department_Visit_Rates_20250929.csv\")\n",
    "cdc_youth_suicide_atttempt_rates= pd.read_csv(\"sources/Youth_Risk_Behavioral_Surveillance_System_(YRBSS)_-_Mental_Health_Indicators_20250929.csv\")\n",
    "\n",
    "cdc_adult_depression_rates= pd.read_csv(\"sources/National_Health_Interview_Survey_(NHIS)_-_Mental_Health_Indicators_20250929.csv\")\n",
    "cdc_state_depression_rates= pd.read_csv(\"sources/Behavioral_Risk_Factor_Surveillance_System_(BRFSS)_-_Mental_Health_Indicators_20250929.csv\")\n",
    "\n"
   ]
  },
  {
   "attachments": {},
   "cell_type": "markdown",
   "metadata": {},
   "source": [
    "## Resources and References\n",
    "*What resources and references have you used for this project?*\n",
    "📝 <!-- Answer Below -->"
   ]
  },
  {
   "cell_type": "code",
   "execution_count": 15,
   "metadata": {},
   "outputs": [
    {
     "name": "stderr",
     "output_type": "stream",
     "text": [
      "[NbConvertApp] Converting notebook source.ipynb to python\n",
      "[NbConvertApp] Writing 3026 bytes to source.py\n"
     ]
    }
   ],
   "source": [
    "# ⚠️ Make sure you run this cell at the end of your notebook before every submission!\n",
    "!jupyter nbconvert --to python source.ipynb"
   ]
  }
 ],
 "metadata": {
  "kernelspec": {
   "display_name": "Python 3",
   "language": "python",
   "name": "python3"
  },
  "language_info": {
   "codemirror_mode": {
    "name": "ipython",
    "version": 3
   },
   "file_extension": ".py",
   "mimetype": "text/x-python",
   "name": "python",
   "nbconvert_exporter": "python",
   "pygments_lexer": "ipython3",
   "version": "3.12.0"
  },
  "orig_nbformat": 4
 },
 "nbformat": 4,
 "nbformat_minor": 2
}
